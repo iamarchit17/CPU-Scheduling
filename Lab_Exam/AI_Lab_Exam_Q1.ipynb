{
  "nbformat": 4,
  "nbformat_minor": 0,
  "metadata": {
    "colab": {
      "provenance": [],
      "authorship_tag": "ABX9TyOHc7I9oXA5v93fwl5lAi2g",
      "include_colab_link": true
    },
    "kernelspec": {
      "name": "python3",
      "display_name": "Python 3"
    },
    "language_info": {
      "name": "python"
    }
  },
  "cells": [
    {
      "cell_type": "markdown",
      "metadata": {
        "id": "view-in-github",
        "colab_type": "text"
      },
      "source": [
        "<a href=\"https://colab.research.google.com/github/iamarchit17/CPU-Scheduling/blob/main/Lab_Exam/AI_Lab_Exam_Q1.ipynb\" target=\"_parent\"><img src=\"https://colab.research.google.com/assets/colab-badge.svg\" alt=\"Open In Colab\"/></a>"
      ]
    },
    {
      "cell_type": "code",
      "execution_count": 2,
      "metadata": {
        "colab": {
          "base_uri": "https://localhost:8080/"
        },
        "id": "NeZk-e0dvnqV",
        "outputId": "95e18f07-f232-4037-8321-4747abcc8a6b"
      },
      "outputs": [
        {
          "output_type": "stream",
          "name": "stdout",
          "text": [
            "Total Iterations:  1742\n",
            "VALUE FUNCTION:\n",
            "{0: 8058.578294234887, 1: 8907.627821829756, 2: 10882.684300952616, 3: 15768.17190177189, 4: 22667.408293902812, 5: 42684.90929429268, 6: 54420.42676129645, 7: 79665.4269991885, 8: 120444.63277948719, 9: 0}\n",
            "TIMES ENTERED:\n",
            "{0: 100.0, 1: 98.6796785304248, 2: 88.51894374282435, 3: 70.32146957520092, 4: 47.646383467278994, 5: 29.1044776119403, 6: 13.719862227324914, 7: 5.797933409873708, 8: 1.4351320321469576, 9: 0.28702640642939153}\n"
          ]
        }
      ],
      "source": [
        "import numpy as np\n",
        "import matplotlib.pyplot as plt\n",
        "\n",
        "class NODE:\n",
        "    def __init__(self, reward, correctProbability):\n",
        "        self.REWARD = reward\n",
        "        self.PROBABILITY = correctProbability\n",
        "        self.next = None\n",
        "\n",
        "class AGENT:\n",
        "    def __init__(self):\n",
        "        self.N = 10\n",
        "        self.THETA = 0.0001\n",
        "        self.DISCOUNT_FACTOR = 0.9\n",
        "        self.ACTIONS = [\"CONTINUE\", \"QUIT\"]\n",
        "        \n",
        "        REWARDS = [100, 500, 1000, 5000, 10000, 50000, 100000, 500000, 1000000, 5000000]\n",
        "        CORRECT_ANSWER_PROBABILITY = [0.99, 0.9, 0.8, 0.7, 0.6, 0.5, 0.4, 0.3, 0.2, 0.1]\n",
        "        \n",
        "        START_NODE = NODE(-1,0)\n",
        "        TEMP = START_NODE\n",
        "        \n",
        "        for i in range(self.N):  \n",
        "            TEMP.next = NODE(REWARDS[i],CORRECT_ANSWER_PROBABILITY[i])\n",
        "            TEMP = TEMP.next\n",
        "        \n",
        "        self.START_STATE = START_NODE.next        \n",
        "\n",
        "\n",
        "class MDP_SOLUTION:\n",
        "    def __init__(self):\n",
        "        self.agent = AGENT()\n",
        "        self.VALUE_FUNCTION = {s: 0 for s in range(self.agent.N)}\n",
        "        self.ITERATIONS = 0\n",
        "        self.TIMES_ENTERED = {s: 0 for s in range(self.agent.N)}\n",
        "        self.TERMINATOR = False\n",
        "        self.PLOT_STATES = [x for x in range(self.agent.N)]\n",
        "    \n",
        "    def helper(self, state, iteration):\n",
        "        if(state == None): return 0\n",
        "        self.TIMES_ENTERED[iteration] += 1\n",
        "    \n",
        "        OLD_VALUE = self.VALUE_FUNCTION[iteration]\n",
        "        REWARD_ACHIEVED = 0\n",
        "        if iteration == 0:\n",
        "            QUIT_REWARD = 0\n",
        "        else:\n",
        "            QUIT_REWARD = self.VALUE_FUNCTION[iteration-1]\n",
        "        \n",
        "        ANSWER = np.random.rand()\n",
        "        \n",
        "        if ANSWER <= state.PROBABILITY:\n",
        "            REWARD_ACHIEVED = state.PROBABILITY * (state.REWARD + (self.agent.DISCOUNT_FACTOR * self.helper(state.next, iteration+1)))\n",
        "            self.VALUE_FUNCTION[iteration] = (self.VALUE_FUNCTION[iteration] * self.TIMES_ENTERED[iteration] + REWARD_ACHIEVED)/(self.TIMES_ENTERED[iteration]+1)\n",
        "            \n",
        "            if(abs(self.VALUE_FUNCTION[iteration] - OLD_VALUE) < self.agent.THETA):\n",
        "                self.TERMINATOR = True\n",
        "\n",
        "        return max(QUIT_REWARD, REWARD_ACHIEVED)\n",
        "    \n",
        "    def solver(self):\n",
        "        while self.TERMINATOR == False:\n",
        "            self.ITERATIONS += 1\n",
        "            HEAD = self.agent.START_STATE\n",
        "            self.helper(HEAD, 0)\n",
        "        \n",
        "        print(\"Total Iterations: \", self.ITERATIONS)\n",
        "        print(\"VALUE FUNCTION:\")\n",
        "        print(self.VALUE_FUNCTION)\n",
        "        \n",
        "        for i in range(self.agent.N):\n",
        "            self.TIMES_ENTERED[i] = (self.TIMES_ENTERED[i] / self.ITERATIONS) * 100\n",
        "        \n",
        "        print(\"TIMES ENTERED:\")\n",
        "        print(self.TIMES_ENTERED)\n",
        "        \n",
        "        EXPECTATION = 0\n",
        "        for i in range(self.agent.N):\n",
        "            EXPECTATION = EXPECTATION + ((self.TIMES_ENTERED[i]/100) * self.VALUE_FUNCTION[i])\n",
        "        \n",
        "       \n",
        "\n",
        "MDP_SOLUTION().solver()"
      ]
    }
  ]
}